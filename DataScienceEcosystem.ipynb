{
 "cells": [
  {
   "cell_type": "markdown",
   "id": "a7ee5d53-abcf-4526-b085-3c4f378441b1",
   "metadata": {},
   "source": [
    "# Data Science Tools and Ecosystem"
   ]
  },
  {
   "cell_type": "markdown",
   "id": "36c46a11-a30c-4388-b04d-cd637696b598",
   "metadata": {},
   "source": [
    "In this notebook, Data Science Tools and Ecosystem are summarized.\n"
   ]
  },
  {
   "cell_type": "markdown",
   "id": "df699703-4b39-4ccc-b400-9bfb464bd06c",
   "metadata": {},
   "source": [
    "Objectives:\n",
    "- List of popular languages in data science\n",
    "- List of commonly used libraries\n",
    "- Table of data science development environments\n",
    "- Simple arithmetic expression: add and multiply integers\n",
    "- Convert 200 minutes in hours"
   ]
  },
  {
   "cell_type": "markdown",
   "id": "4c35f8d0-b3e8-46ab-bde9-33cb3494da32",
   "metadata": {},
   "source": [
    "Some of the popular languages that Data Scientists use are:\n",
    "1) Python\n",
    "2) R\n",
    "3) SQL\n",
    "4) Java\n",
    "5) Julia\n",
    "6) C++"
   ]
  },
  {
   "cell_type": "markdown",
   "id": "1dc192f6-480e-46f4-9edb-5ddd40927bcf",
   "metadata": {},
   "source": [
    "Some of the commonly used libraries used by Data Scientists include:\n",
    "\n",
    "1) Pandas\n",
    "2) Nympy\n",
    "3) Scikit-learn\n",
    "4) Matplotlib\n",
    "5) Keras\n",
    "6) Pytorch"
   ]
  },
  {
   "cell_type": "markdown",
   "id": "d31b087a-251f-4253-b17c-b169df9d899b",
   "metadata": {},
   "source": [
    "|Data Science Tools|\n",
    "|---|\n",
    "Jupyterlab\n",
    "Spyder\n",
    "Visual Studio Code"
   ]
  },
  {
   "cell_type": "markdown",
   "id": "30a9b72f-5bb9-4f6a-a7c6-5bd0f53de428",
   "metadata": {},
   "source": [
    "### Below are a few examples of evaluating arithmetic expressions in Python"
   ]
  },
  {
   "cell_type": "code",
   "execution_count": 40,
   "id": "400ad2d6-26dd-4dbe-8cc2-dce93ded9122",
   "metadata": {},
   "outputs": [
    {
     "data": {
      "text/plain": [
       "17"
      ]
     },
     "execution_count": 40,
     "metadata": {},
     "output_type": "execute_result"
    }
   ],
   "source": [
    "# This a simple arithmetic expression to mutiply then add integers\n",
    "(3*4)+5"
   ]
  },
  {
   "cell_type": "code",
   "execution_count": 41,
   "id": "bc745b99-66d7-4b0f-81eb-78c4ac5ca28a",
   "metadata": {},
   "outputs": [
    {
     "data": {
      "text/plain": [
       "3.3333333333333335"
      ]
     },
     "execution_count": 41,
     "metadata": {},
     "output_type": "execute_result"
    }
   ],
   "source": [
    "#This will convert 200 minutes to hours by diving by 60\n",
    "200/60"
   ]
  },
  {
   "cell_type": "markdown",
   "id": "66c6235a-57c0-45bd-aad1-ee81495331ff",
   "metadata": {},
   "source": [
    "## Author\n",
    "Lea Michel"
   ]
  },
  {
   "cell_type": "code",
   "execution_count": null,
   "id": "b40d86a0-6303-4c20-82d7-9bc86ef91314",
   "metadata": {},
   "outputs": [],
   "source": []
  }
 ],
 "metadata": {
  "kernelspec": {
   "display_name": "Python [conda env:base] *",
   "language": "python",
   "name": "conda-base-py"
  },
  "language_info": {
   "codemirror_mode": {
    "name": "ipython",
    "version": 3
   },
   "file_extension": ".py",
   "mimetype": "text/x-python",
   "name": "python",
   "nbconvert_exporter": "python",
   "pygments_lexer": "ipython3",
   "version": "3.12.7"
  }
 },
 "nbformat": 4,
 "nbformat_minor": 5
}
